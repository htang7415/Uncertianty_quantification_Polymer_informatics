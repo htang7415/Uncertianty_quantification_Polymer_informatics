{
 "cells": [
  {
   "cell_type": "code",
   "execution_count": 1,
   "metadata": {},
   "outputs": [],
   "source": [
    "import sys\n",
    "sys.path.append('../functions')\n",
    "\n",
    "# Import necessary libraries\n",
    "import numpy as np\n",
    "import pandas as pd\n",
    "from sklearn.model_selection import train_test_split\n",
    "import time\n",
    "from ngboost import NGBRegressor\n",
    "from ngboost.distns import Normal\n",
    "# Import custom modules\n",
    "from data_processing import load_and_process_data\n",
    "from models import train_gpr, predict_gpr\n",
    "from metrics import calculate_metrics, calculate_observed_confidence\n",
    "from post_processing import create_errorbar_plot, plot_abs_error_vs_std, plot_std_histogram, plot_calibration_curve"
   ]
  },
  {
   "cell_type": "code",
   "execution_count": null,
   "metadata": {},
   "outputs": [],
   "source": [
    "num_zero_threshold = 3600\n",
    "\n",
    "# Load and process data\n",
    "file_path = \"../data/other_property/Tm.csv\"\n",
    "X_count, Y = load_and_process_data(file_path, num_zero_threshold)\n",
    "\n",
    "# Split the data\n",
    "xtrain, xtemp, ytrain, ytemp = train_test_split(X_count, Y, test_size=0.2, random_state=11)\n",
    "xval, xtest, yval, ytest = train_test_split(xtemp, ytemp, test_size=0.5, random_state=42)\n",
    "\n",
    "# Convert Pandas DataFrame to NumPy arrays for xtrain and xtest if they are not already\n",
    "xtrain_np = xtrain if isinstance(xtrain, np.ndarray) else xtrain.values\n",
    "xtest_np = xtest if isinstance(xtest, np.ndarray) else xtest.values\n",
    "\n",
    "# Reshape ytrain and ytest if they are not already 2D arrays\n",
    "ytrain_np = ytrain.reshape(-1, 1) if len(ytrain.shape) == 1 else ytrain\n",
    "ytest_np = ytest.reshape(-1, 1) if len(ytest.shape) == 1 else ytest"
   ]
  },
  {
   "cell_type": "code",
   "execution_count": null,
   "metadata": {},
   "outputs": [],
   "source": [
    "start_time = time.time()\n",
    "\n",
    "model = NGBRegressor(\n",
    "    Dist=Normal, \n",
    "    n_estimators=4000, \n",
    "    learning_rate=0.1, \n",
    "    minibatch_frac=0.5,\n",
    "    verbose=1,\n",
    "    col_sample=0.5,\n",
    "    random_state=42, \n",
    "    natural_gradient=True\n",
    "    )\n",
    "    \n",
    "# Train model\n",
    "model.fit(xtrain, ytrain)\n",
    "    \n",
    "end_time = time.time() \n",
    "elapsed_time = end_time - start_time\n",
    "print(f\"Training took {elapsed_time:.2f} seconds.\")"
   ]
  },
  {
   "cell_type": "code",
   "execution_count": null,
   "metadata": {},
   "outputs": [],
   "source": [
    "# Make predictions with uncertainty on training and test data\n",
    "pred_train = model.pred_dist(xtrain)\n",
    "pred_test = model.pred_dist(xtest)\n",
    "\n",
    "# Extract mean and std values\n",
    "mean_train = pred_train.loc\n",
    "std_train = pred_train.scale\n",
    "\n",
    "mean_test = pred_test.loc\n",
    "std_test = pred_test.scale\n",
    "\n",
    "# Ensure all arrays are properly shaped\n",
    "ytrain_np = ytrain.flatten()\n",
    "ytest_np = ytest.flatten()\n",
    "mean_train = mean_train.flatten()\n",
    "mean_test = mean_test.flatten()\n",
    "std_train = std_train.flatten()\n",
    "std_test = std_test.flatten()\n",
    "\n",
    "# Calibration curve\n",
    "confidence_levels = np.arange(0, 1.05, 0.05)\n",
    "\n",
    "# Calculate metrics\n",
    "train_metrics = calculate_metrics(ytrain_np, mean_train, std_train, confidence_levels)\n",
    "test_metrics = calculate_metrics(ytest_np, mean_test, std_test, confidence_levels)\n",
    "\n",
    "# Create a DataFrame to store the metrics\n",
    "metrics_df = pd.DataFrame({\n",
    "    'Dataset': ['Training', 'Test'],\n",
    "    'MAE': [train_metrics['MAE'], test_metrics['MAE']],\n",
    "    'RMSE': [train_metrics['RMSE'], test_metrics['RMSE']],\n",
    "    'R2': [train_metrics['R2'], test_metrics['R2']],\n",
    "    'Spearman': [train_metrics['Spearman'], test_metrics['Spearman']],\n",
    "    'Calibration Area': [train_metrics['Calibration Area'], test_metrics['Calibration Area']]\n",
    "})\n",
    "\n",
    "# Print the DataFrame\n",
    "print(metrics_df)"
   ]
  },
  {
   "cell_type": "code",
   "execution_count": null,
   "metadata": {},
   "outputs": [],
   "source": [
    "# Plot results\n",
    "create_errorbar_plot(ytrain.flatten(), mean_train.flatten(), std_train.flatten(), 'blue', 'Training')\n",
    "create_errorbar_plot(ytest.flatten(), mean_test.flatten(), std_test.flatten(), 'green', 'Test')"
   ]
  },
  {
   "cell_type": "code",
   "execution_count": null,
   "metadata": {},
   "outputs": [],
   "source": [
    "# Plot additional figures\n",
    "abs_error_train = np.abs(ytrain.flatten() - mean_train.flatten())\n",
    "abs_error_test = np.abs(ytest.flatten() - mean_test.flatten())\n",
    "\n",
    "plot_abs_error_vs_std(abs_error_train, std_train.flatten(), 'Training', 'blue')\n",
    "plot_abs_error_vs_std(abs_error_test, std_test.flatten(), 'Test', 'green')"
   ]
  },
  {
   "cell_type": "code",
   "execution_count": null,
   "metadata": {},
   "outputs": [],
   "source": [
    "plot_std_histogram(std_train.flatten(), 'Training', 'blue')\n",
    "plot_std_histogram(std_test.flatten(), 'Test', 'green')"
   ]
  },
  {
   "cell_type": "code",
   "execution_count": null,
   "metadata": {},
   "outputs": [],
   "source": [
    "# Calculate observed confidence\n",
    "observed_confidence_train = calculate_observed_confidence(ytrain.flatten(), mean_train.flatten(), std_train.flatten(), confidence_levels)\n",
    "observed_confidence_test = calculate_observed_confidence(ytest.flatten(), mean_test.flatten(), std_test.flatten(), confidence_levels)\n",
    "\n",
    "# Plot calibration curves\n",
    "plot_calibration_curve(confidence_levels, observed_confidence_train, 'Training')\n",
    "plot_calibration_curve(confidence_levels, observed_confidence_test, 'Test')"
   ]
  }
 ],
 "metadata": {
  "kernelspec": {
   "display_name": "UQ",
   "language": "python",
   "name": "python3"
  },
  "language_info": {
   "codemirror_mode": {
    "name": "ipython",
    "version": 3
   },
   "file_extension": ".py",
   "mimetype": "text/x-python",
   "name": "python",
   "nbconvert_exporter": "python",
   "pygments_lexer": "ipython3",
   "version": "3.9.18"
  }
 },
 "nbformat": 4,
 "nbformat_minor": 2
}
